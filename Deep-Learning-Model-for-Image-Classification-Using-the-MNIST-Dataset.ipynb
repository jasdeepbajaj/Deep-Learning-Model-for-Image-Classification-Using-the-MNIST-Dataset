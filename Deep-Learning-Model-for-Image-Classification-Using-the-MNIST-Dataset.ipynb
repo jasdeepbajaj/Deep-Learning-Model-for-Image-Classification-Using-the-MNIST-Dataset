{
  "cells": [
    {
      "cell_type": "markdown",
      "id": "59163527",
      "metadata": {
        "id": "59163527"
      },
      "source": [
        "### Question 2: Image Classification using CNN in Pytorch (70 points)"
      ]
    },
    {
      "cell_type": "markdown",
      "id": "781073f8",
      "metadata": {
        "id": "781073f8"
      },
      "source": [
        "#### Importing necessary libraries"
      ]
    },
    {
      "cell_type": "code",
      "source": [
        "from google.colab import drive\n",
        "drive.mount('/content/drive')"
      ],
      "metadata": {
        "colab": {
          "base_uri": "https://localhost:8080/"
        },
        "id": "0YQI2PHQvIE9",
        "outputId": "c06d7ba0-2bec-4536-c8ed-276f9cbab4e6"
      },
      "id": "0YQI2PHQvIE9",
      "execution_count": 1,
      "outputs": [
        {
          "output_type": "stream",
          "name": "stdout",
          "text": [
            "Mounted at /content/drive\n"
          ]
        }
      ]
    },
    {
      "cell_type": "code",
      "execution_count": 2,
      "id": "1a223fc6-1e3c-4547-b7fd-6b2193c0122e",
      "metadata": {
        "id": "1a223fc6-1e3c-4547-b7fd-6b2193c0122e"
      },
      "outputs": [],
      "source": [
        "import pandas as pd\n",
        "import numpy as np\n",
        "import matplotlib.pyplot as plt\n",
        "import torch\n",
        "from torch.utils.data import Dataset, DataLoader\n",
        "from torch.utils.data import SubsetRandomSampler\n",
        "from torchvision import transforms\n",
        "import torch.nn as nn\n",
        "import torch.optim as optim"
      ]
    },
    {
      "cell_type": "markdown",
      "id": "66be08e2",
      "metadata": {
        "id": "66be08e2"
      },
      "source": [
        "#### (a) Dataloader: Download the MNIST train and test dataset on Canvas. Implement a data loader with batch size and validation size as arguments."
      ]
    },
    {
      "cell_type": "code",
      "execution_count": 3,
      "id": "513bdd34",
      "metadata": {
        "id": "513bdd34"
      },
      "outputs": [],
      "source": [
        "class CustomImageDataset(Dataset):\n",
        "    def __init__(self, images_path: str, labels_path: str, transform=None):\n",
        "        self.image_data = torch.from_numpy(np.load(images_path)).float()\n",
        "        self.labels_data = torch.from_numpy(np.load(labels_path)).long()\n",
        "\n",
        "        length = len(self.image_data[0])\n",
        "        dim = int(np.sqrt(length))\n",
        "        self.image_data = self.image_data.reshape(-1, dim, dim)\n",
        "\n",
        "        self.transform = transform\n",
        "\n",
        "    def __len__(self):\n",
        "        return len(self.labels_data)\n",
        "\n",
        "    def __getitem__(self, idx):\n",
        "        img = self.image_data[idx]\n",
        "        label = self.labels_data[idx]\n",
        "\n",
        "        img = img.numpy()\n",
        "\n",
        "        if self.transform:\n",
        "            img = self.transform(img)\n",
        "        return img, label"
      ]
    },
    {
      "cell_type": "markdown",
      "id": "34e7a184",
      "metadata": {
        "id": "34e7a184"
      },
      "source": [
        "I implemented a custom PyTorch dataset class called CustomImageDataset to efficiently load and preprocess the MNIST dataset. In the init method, I load the image and label data from numpy files. I then reshape the image data into a suitable format (height, width) using numpy operations. This preprocessing step ensures that the data is in the correct format for training deep learning models."
      ]
    },
    {
      "cell_type": "code",
      "execution_count": 3,
      "id": "8a5b8f24",
      "metadata": {
        "id": "8a5b8f24"
      },
      "outputs": [],
      "source": []
    },
    {
      "cell_type": "code",
      "execution_count": 4,
      "id": "a601a701",
      "metadata": {
        "id": "a601a701"
      },
      "outputs": [],
      "source": [
        "custom_tf = transforms.Compose([transforms.ToTensor()])\n",
        "\n",
        "x_train_path = '/content/drive/MyDrive/x_train.npy'\n",
        "y_train_path = '/content/drive/MyDrive/y_train.npy'\n",
        "custom_dataset = CustomImageDataset(x_train_path, y_train_path, transform=custom_tf)"
      ]
    },
    {
      "cell_type": "markdown",
      "id": "16ed8372",
      "metadata": {
        "id": "16ed8372"
      },
      "source": [
        "This creates a CustomImageDataset object that can be used to efficiently load and preprocess the MNIST training data, applying the ToTensor transformation to each image."
      ]
    },
    {
      "cell_type": "code",
      "execution_count": 4,
      "id": "cee7c17e",
      "metadata": {
        "id": "cee7c17e"
      },
      "outputs": [],
      "source": []
    },
    {
      "cell_type": "code",
      "execution_count": 5,
      "id": "ecaace02",
      "metadata": {
        "id": "ecaace02"
      },
      "outputs": [],
      "source": [
        "def data_loader(train_data: CustomImageDataset, batch_size: int, validation_split: float):\n",
        "    \"\"\"\n",
        "    Create DataLoader objects for training and validation datasets with a specified validation split.\n",
        "    \"\"\"\n",
        "    dataset_size = len(train_data)\n",
        "    indices = list(range(dataset_size))\n",
        "    split = int(np.floor(validation_split*dataset_size))\n",
        "    np.random.shuffle(indices)\n",
        "    train_indices, val_indices = indices[split:], indices[:split]\n",
        "\n",
        "    train_sampler = SubsetRandomSampler(train_indices)\n",
        "    val_sampler = SubsetRandomSampler(val_indices)\n",
        "\n",
        "    #Create DataLoader objects for training and validation datasets using the samplers\n",
        "    train_loader = DataLoader(dataset=train_data, batch_size=batch_size,sampler=train_sampler)\n",
        "    val_loader = DataLoader(dataset=train_data, batch_size=batch_size, sampler=val_sampler)\n",
        "\n",
        "    return train_loader, val_loader"
      ]
    },
    {
      "cell_type": "markdown",
      "id": "2e2b824c",
      "metadata": {
        "id": "2e2b824c"
      },
      "source": [
        "I implemented the data_loader function to split the input dataset into training and validation subsets using a validation_split ratio. I randomly shuffled the dataset indices and created SubsetRandomSampler objects for the training and validation indices. These samplers were then used to instantiate separate DataLoader objects based on the batch_size for training and validation, ensuring the model is exposed to unseen data during validation for accurate performance evaluation."
      ]
    },
    {
      "cell_type": "code",
      "execution_count": 5,
      "id": "a6f52f8e",
      "metadata": {
        "id": "a6f52f8e"
      },
      "outputs": [],
      "source": []
    },
    {
      "cell_type": "code",
      "execution_count": 6,
      "id": "41f6cc1d",
      "metadata": {
        "id": "41f6cc1d"
      },
      "outputs": [],
      "source": [
        "# Batch size and validation split\n",
        "batch_size =32\n",
        "validation_split = 0.2\n",
        "\n",
        "train_loader, val_loader = data_loader(custom_dataset, batch_size, validation_split)"
      ]
    },
    {
      "cell_type": "markdown",
      "id": "7b9b88d4-15ce-4441-95ec-0f932d7eddf0",
      "metadata": {
        "id": "7b9b88d4-15ce-4441-95ec-0f932d7eddf0"
      },
      "source": [
        "This code snippet initializes train_loader and val_loader using DataLoader class, with a batch size of 32 and a validation split of 20%, based on the custom_dataset. DataLoader is an iterable that retrieves our dataset's features and label one sample at a time."
      ]
    },
    {
      "cell_type": "code",
      "execution_count": 6,
      "id": "0d1a64e9-5184-4e18-9e6a-b1da3adc9fb8",
      "metadata": {
        "id": "0d1a64e9-5184-4e18-9e6a-b1da3adc9fb8"
      },
      "outputs": [],
      "source": []
    },
    {
      "cell_type": "code",
      "execution_count": 7,
      "id": "499cf75c",
      "metadata": {
        "colab": {
          "base_uri": "https://localhost:8080/"
        },
        "id": "499cf75c",
        "outputId": "1d6bf56b-561b-42df-a26d-6a0a180515fc"
      },
      "outputs": [
        {
          "output_type": "stream",
          "name": "stdout",
          "text": [
            "Shape of one batch of images is,  image.shape = torch.Size([32, 1, 28, 28])\n",
            "Shape of one batch of labels is,  label.shape = torch.Size([32])\n"
          ]
        }
      ],
      "source": [
        "for image, label in train_loader:\n",
        "    # Print the shape of one batch of images and labels\n",
        "    print(f\"Shape of one batch of images is,  {image.shape = }\")\n",
        "    print(f\"Shape of one batch of labels is,  {label.shape = }\")\n",
        "    break"
      ]
    },
    {
      "cell_type": "code",
      "execution_count": 7,
      "id": "780d9db9-3479-4a5a-94da-d1e764b3f1e0",
      "metadata": {
        "id": "780d9db9-3479-4a5a-94da-d1e764b3f1e0"
      },
      "outputs": [],
      "source": []
    },
    {
      "cell_type": "markdown",
      "id": "20019d27",
      "metadata": {
        "id": "20019d27"
      },
      "source": [
        "#### (b) Data Exploration Pick one example from each digit and visualize them. Count the number of samples per digit in the original training data. Is the data distribution balanced?"
      ]
    },
    {
      "cell_type": "code",
      "execution_count": 8,
      "id": "64a4e718",
      "metadata": {
        "id": "64a4e718"
      },
      "outputs": [],
      "source": [
        "def visualize(dataset):\n",
        "    \"\"\"\n",
        "    Visualize one sample image for each digit (0-9) in the dataset.\n",
        "    \"\"\"\n",
        "    # Initialize a dictionary to store one sample image for each digit (0-9)\n",
        "    digit_samples = {}\n",
        "    for i in range(10):\n",
        "        digit_samples[i] = None\n",
        "\n",
        "    # Loop through the dataset to find one sample image for each digit\n",
        "    for x, y in dataset:\n",
        "        idx = y.item()\n",
        "        if digit_samples[idx] is None:\n",
        "            digit_samples[idx] = x\n",
        "\n",
        "    fig, axes = plt.subplots(nrows = 1, ncols = 10, figsize=(15, 5))\n",
        "\n",
        "    # Loop through the stored sample images for each digit and display them\n",
        "    for i, (digit, image) in enumerate(digit_samples.items()):\n",
        "        axes[i].imshow(image[0], cmap =\"gray\")\n",
        "        axes[i].set_title(f'Digit {digit}')\n",
        "        axes[i].axis('off')\n",
        "\n",
        "    plt.show()\n"
      ]
    },
    {
      "cell_type": "code",
      "execution_count": 9,
      "id": "2d664b2c",
      "metadata": {
        "colab": {
          "base_uri": "https://localhost:8080/",
          "height": 157
        },
        "id": "2d664b2c",
        "outputId": "2fa5d7b7-8468-40fe-e598-24a8875e40ba"
      },
      "outputs": [
        {
          "output_type": "display_data",
          "data": {
            "text/plain": [
              "<Figure size 1500x500 with 10 Axes>"
            ],
            "image/png": "[encoded data removed]"
          },
          "metadata": {}
        }
      ],
      "source": [
        "#visualising one example from each digit\n",
        "visualize(custom_dataset)"
      ]
    },
    {
      "cell_type": "code",
      "execution_count": 9,
      "id": "fbfead1c-6c19-4aec-b30b-2b5bb7ac6704",
      "metadata": {
        "id": "fbfead1c-6c19-4aec-b30b-2b5bb7ac6704"
      },
      "outputs": [],
      "source": []
    },
    {
      "cell_type": "code",
      "execution_count": 10,
      "id": "219de7c3",
      "metadata": {
        "id": "219de7c3"
      },
      "outputs": [],
      "source": [
        "def count_samples_per_digit(dataset):\n",
        "    \"\"\"\n",
        "    Counts the number of samples for each digit (0-9) in the given dataset.\n",
        "    \"\"\"\n",
        "    digit_counts = {i: 0 for i in range(10)}\n",
        "    for _, y in dataset:\n",
        "        digit_counts[y.item()] += 1\n",
        "    return digit_counts"
      ]
    },
    {
      "cell_type": "code",
      "execution_count": 11,
      "id": "467b4ccc",
      "metadata": {
        "colab": {
          "base_uri": "https://localhost:8080/"
        },
        "id": "467b4ccc",
        "outputId": "de7e8eba-015d-4e69-aa1c-e9c8ac37869a"
      },
      "outputs": [
        {
          "output_type": "stream",
          "name": "stdout",
          "text": [
            "Number of samples per digit:\n",
            "Digit 0: 5923\n",
            "Digit 1: 6742\n",
            "Digit 2: 5958\n",
            "Digit 3: 6131\n",
            "Digit 4: 5842\n",
            "Digit 5: 5421\n",
            "Digit 6: 5918\n",
            "Digit 7: 6265\n",
            "Digit 8: 5851\n",
            "Digit 9: 5949\n"
          ]
        }
      ],
      "source": [
        "# Count samples per digit\n",
        "digit_counts = count_samples_per_digit(custom_dataset)\n",
        "print(\"Number of samples per digit:\")\n",
        "for digit, count in digit_counts.items():\n",
        "    print(f\"Digit {digit}: {count}\")"
      ]
    },
    {
      "cell_type": "markdown",
      "id": "91217617",
      "metadata": {
        "id": "91217617"
      },
      "source": [
        "##### The data distribution for the number of samples per digit in the original training data is not balanced. For example, I can see that digit 1 has the highest number of samples at 6742, while digit 5 has the lowest number of samples at 5421. This means that some digits are represented more than others in the training data, which could potentially lead to biases in the model's performance. A balanced distribution, where each digit has a similar number of samples, would be ideal for ensuring fair and accurate predictions across all digits."
      ]
    },
    {
      "cell_type": "code",
      "execution_count": 11,
      "id": "4ad52c81-3cc3-43ea-ac31-f3bbfbc63936",
      "metadata": {
        "id": "4ad52c81-3cc3-43ea-ac31-f3bbfbc63936"
      },
      "outputs": [],
      "source": []
    },
    {
      "cell_type": "markdown",
      "id": "61065194-8ae3-4b09-a19b-ff745c2f7ad8",
      "metadata": {
        "id": "61065194-8ae3-4b09-a19b-ff745c2f7ad8"
      },
      "source": [
        "#### (c) Data Split Split original training data into 80% for training and 20% validation datasets."
      ]
    },
    {
      "cell_type": "markdown",
      "id": "e97ac560-0120-49c5-98c0-0fbbae1c0372",
      "metadata": {
        "id": "e97ac560-0120-49c5-98c0-0fbbae1c0372"
      },
      "source": [
        "This step has already been completed in part a) through data_loader function."
      ]
    },
    {
      "cell_type": "code",
      "execution_count": 11,
      "id": "fa74ba75-7d3a-4bb6-9dc6-a44c508a8299",
      "metadata": {
        "id": "fa74ba75-7d3a-4bb6-9dc6-a44c508a8299"
      },
      "outputs": [],
      "source": []
    },
    {
      "cell_type": "markdown",
      "id": "ac37a0a6",
      "metadata": {
        "id": "ac37a0a6"
      },
      "source": [
        "#### (d) Modeling Implement a convolutional neural network to classify the digits in the MNIST dataset. Experiment with at least 3 hyperparameters. You may experiment with different CNN hyper-parameters, e.g. num of layers, filter size, stride, activation function, dropout, weight regularization, etc. Use the validation data to decide which combination of hyperparameters is best. Report the final classification accuracy on the validation dataset."
      ]
    },
    {
      "cell_type": "code",
      "execution_count": 12,
      "id": "c35884b1",
      "metadata": {
        "id": "c35884b1"
      },
      "outputs": [],
      "source": [
        "class CNN(nn.Module):\n",
        "    def __init__(self, num_layers, kernel_size, dropout_rate):\n",
        "        super(CNN, self).__init__()\n",
        "\n",
        "        # Initialize the CNN with the provided parameters\n",
        "        self.num_layers = num_layers\n",
        "        self.kernel_size = kernel_size\n",
        "        self.dropout_rate = dropout_rate\n",
        "\n",
        "        layers = []\n",
        "        in_channels = 1\n",
        "\n",
        "        # Define convolutional layers\n",
        "        for i in range(self.num_layers):\n",
        "            out_channels = 16*(2**i)\n",
        "\n",
        "            # Each layer consists of Convolution, ReLU activation, MaxPooling, and Dropout\n",
        "            layers.append(nn.Sequential(\n",
        "                nn.Conv2d(in_channels=in_channels, out_channels=out_channels, kernel_size=self.kernel_size, stride = 1, padding = self.kernel_size//2),\n",
        "                nn.ReLU(),\n",
        "                nn.MaxPool2d(kernel_size=2),\n",
        "                nn.Dropout(self.dropout_rate)\n",
        "            ))\n",
        "            in_channels = out_channels #updated in_channels of next layer to match the out channels of previous layer\n",
        "\n",
        "         # Group all convolutional layers into a sequential module\n",
        "        self.conv_layers = nn.Sequential(*layers)\n",
        "\n",
        "        # Calculate the size of the image after convolutional layers\n",
        "        image_size = 28\n",
        "        for _ in range(self.num_layers):\n",
        "            pad = self.kernel_size//2\n",
        "            image_size = (image_size - self.kernel_size + 2*pad) + 1 #stride = 1 so no contribution in formula\n",
        "            image_size = image_size // 2 #since I am not using any stride in MaxPool2d\n",
        "\n",
        "        # Define fully connected layers\n",
        "        self.fc1 = nn.Linear(out_channels * image_size * image_size, 128)\n",
        "        self.fc2 = nn.Linear(128, 10)\n",
        "        self.dropout = nn.Dropout(self.dropout_rate)\n",
        "        self.relu = nn.ReLU()\n",
        "\n",
        "\n",
        "    def forward(self, x):\n",
        "        # Forward pass through the network\n",
        "\n",
        "        # print(x.shape)\n",
        "        x = self.conv_layers(x) # Convolutional layers\n",
        "        # print(x.shape)\n",
        "        x = torch.flatten(x, 1) # Flatten the output of convolutional layers for fully connected layers\n",
        "        # print(x.shape)\n",
        "\n",
        "\n",
        "        #Fully connected layers\n",
        "        x = self.fc1(x)\n",
        "        # print(x.shape)\n",
        "        x = self.relu(x)\n",
        "        # print(x.shape)\n",
        "        x = self.dropout(x)\n",
        "        # print(x.shape)\n",
        "        x = self.fc2(x)\n",
        "        # print(x.shape)\n",
        "\n",
        "        return x"
      ]
    },
    {
      "cell_type": "markdown",
      "id": "1b49f288-019e-4bda-bc04-26128fbb4e9f",
      "metadata": {
        "id": "1b49f288-019e-4bda-bc04-26128fbb4e9f"
      },
      "source": [
        "This Convolutional Neural Network (CNN) is designed with keeping flexibility in mind. The number of convolutional layers, kernel size, and dropout rate are customizable parameters. The network begins with a series of convolutional layers, each followed by ReLU activation, max-pooling, and dropout for regularization. These layers help extract hierarchical features from the input images. After the convolutional layers, the feature maps are flattened and fed into two fully connected layers with 128 and 10 neurons respectively, followed by ReLU activation and dropout. The final layer produces logits for classification. Overall, this architecture aims to efficiently learn and represent features from image data while mitigating overfitting through dropout regularization."
      ]
    },
    {
      "cell_type": "code",
      "execution_count": 13,
      "id": "69f566ec",
      "metadata": {
        "colab": {
          "base_uri": "https://localhost:8080/"
        },
        "id": "69f566ec",
        "outputId": "ff46077e-ce92-4ae3-8d01-b2ecd078f246"
      },
      "outputs": [
        {
          "output_type": "execute_result",
          "data": {
            "text/plain": [
              "CNN(\n",
              "  (conv_layers): Sequential(\n",
              "    (0): Sequential(\n",
              "      (0): Conv2d(1, 16, kernel_size=(3, 3), stride=(1, 1), padding=(1, 1))\n",
              "      (1): ReLU()\n",
              "      (2): MaxPool2d(kernel_size=2, stride=2, padding=0, dilation=1, ceil_mode=False)\n",
              "      (3): Dropout(p=0.25, inplace=False)\n",
              "    )\n",
              "    (1): Sequential(\n",
              "      (0): Conv2d(16, 32, kernel_size=(3, 3), stride=(1, 1), padding=(1, 1))\n",
              "      (1): ReLU()\n",
              "      (2): MaxPool2d(kernel_size=2, stride=2, padding=0, dilation=1, ceil_mode=False)\n",
              "      (3): Dropout(p=0.25, inplace=False)\n",
              "    )\n",
              "  )\n",
              "  (fc1): Linear(in_features=1568, out_features=128, bias=True)\n",
              "  (fc2): Linear(in_features=128, out_features=10, bias=True)\n",
              "  (dropout): Dropout(p=0.25, inplace=False)\n",
              "  (relu): ReLU()\n",
              ")"
            ]
          },
          "metadata": {},
          "execution_count": 13
        }
      ],
      "source": [
        "model = CNN(num_layers = 2, kernel_size = 3, dropout_rate = 0.25)\n",
        "model"
      ]
    },
    {
      "cell_type": "code",
      "execution_count": 14,
      "id": "658e00a9",
      "metadata": {
        "colab": {
          "base_uri": "https://localhost:8080/"
        },
        "id": "658e00a9",
        "outputId": "5bbe60d3-0c5a-411a-ea25-cc017321d24d"
      },
      "outputs": [
        {
          "output_type": "stream",
          "name": "stdout",
          "text": [
            "a.shape = torch.Size([32, 10])\n"
          ]
        }
      ],
      "source": [
        "#testing model for a random sample of the same shape as out training data in batches\n",
        "test_sensor = torch.randn(32, 1, 28, 28)\n",
        "a = model(test_sensor)\n",
        "print(f\"{a.shape = }\")"
      ]
    },
    {
      "cell_type": "code",
      "execution_count": 15,
      "id": "cf32331f",
      "metadata": {
        "id": "cf32331f"
      },
      "outputs": [],
      "source": [
        "def train_epoch(model: CNN, train_loader: DataLoader, criterion, optimizer, device):\n",
        "    \"\"\"\n",
        "    Train the model for one epoch.\n",
        "    \"\"\"\n",
        "    model.train()  #Set the model to training mode\n",
        "    train_loss = 0\n",
        "    correct = 0\n",
        "    total = 0\n",
        "\n",
        "    #Iterate over the training data\n",
        "    for inputs, labels in train_loader:\n",
        "        inputs, labels = inputs.to(device), labels.to(device)\n",
        "\n",
        "        #Forward pass\n",
        "        outputs = model(inputs)\n",
        "        loss = criterion(outputs, labels) #Calculate the loss\n",
        "\n",
        "        # Backward pass and optimization\n",
        "        optimizer.zero_grad()\n",
        "        loss.backward() #Backpropagation\n",
        "        optimizer.step()\n",
        "\n",
        "        train_loss += loss.item() #Updatetraining loss\n",
        "\n",
        "        #calculate accuracy\n",
        "        _, predicted = outputs.max(1)\n",
        "        total += labels.size(0)\n",
        "        correct += predicted.eq(labels).sum().item()\n",
        "\n",
        "    avg_train_loss = train_loss / len(train_loader)\n",
        "    train_accuracy = 100 * correct / total\n",
        "    return avg_train_loss, train_accuracy"
      ]
    },
    {
      "cell_type": "markdown",
      "id": "193d205d-8b66-4c75-b584-e7b70022bb2e",
      "metadata": {
        "id": "193d205d-8b66-4c75-b584-e7b70022bb2e"
      },
      "source": [
        "Here, I wrote a function to train the model for one epoch."
      ]
    },
    {
      "cell_type": "code",
      "execution_count": 15,
      "id": "00a3bdbd-dcc6-4ee4-a6f5-bb1ab5112130",
      "metadata": {
        "id": "00a3bdbd-dcc6-4ee4-a6f5-bb1ab5112130"
      },
      "outputs": [],
      "source": []
    },
    {
      "cell_type": "code",
      "execution_count": 16,
      "id": "54785d1b",
      "metadata": {
        "id": "54785d1b"
      },
      "outputs": [],
      "source": [
        "def evaluate_model(model, val_loader, criterion, device):\n",
        "    \"\"\"\n",
        "    Evaluate the model on the validation dataset\n",
        "    \"\"\"\n",
        "    model.eval()  #Set the model to evaluation mode\n",
        "    val_loss = 0\n",
        "    correct = 0\n",
        "    total = 0\n",
        "\n",
        "    with torch.no_grad():\n",
        "        # Iterate over the validation data\n",
        "        for inputs, labels in val_loader:\n",
        "            inputs, labels = inputs.to(device), labels.to(device) #move inputs and labels to either CPU or GPU\n",
        "\n",
        "            outputs = model(inputs) #Forward pass\n",
        "            loss = criterion(outputs, labels) #Calculate the loss\n",
        "            val_loss += loss.item()\n",
        "\n",
        "            #calculate accuracy\n",
        "            _, predicted = outputs.max(1)\n",
        "            total += labels.size(0)\n",
        "            correct += predicted.eq(labels).sum().item()\n",
        "\n",
        "    #Calculate average validation loss and validation accuracy\n",
        "    avg_val_loss = val_loss / len(val_loader)\n",
        "    val_accuracy = 100 * correct / total\n",
        "    return avg_val_loss, val_accuracy"
      ]
    },
    {
      "cell_type": "markdown",
      "id": "8a909e13-29e0-4184-a73e-faf7bf8f100a",
      "metadata": {
        "id": "8a909e13-29e0-4184-a73e-faf7bf8f100a"
      },
      "source": [
        "This function is used to evaluate the model on the validation set."
      ]
    },
    {
      "cell_type": "code",
      "execution_count": 16,
      "id": "11820f01-7682-4856-a7ff-65c62dd72e04",
      "metadata": {
        "id": "11820f01-7682-4856-a7ff-65c62dd72e04"
      },
      "outputs": [],
      "source": []
    },
    {
      "cell_type": "code",
      "execution_count": 17,
      "id": "7e46030c",
      "metadata": {
        "id": "7e46030c"
      },
      "outputs": [],
      "source": [
        "def train_model(model, train_loader, val_loader, num_epochs=10, learning_rate=0.001):\n",
        "    \"\"\"\n",
        "    Train the model for a specified number of epochs and evaluate it on the validation dataset.\n",
        "    \"\"\"\n",
        "    #Determine the device (CPU or GPU) for computations\n",
        "    device = torch.device(\"cuda\" if torch.cuda.is_available() else \"cpu\")\n",
        "    print(f\"Training on device: {device}\")\n",
        "\n",
        "    model = model.to(device) #move the model to appropriate device\n",
        "\n",
        "    # Define the loss function and optimizer\n",
        "    criterion = nn.CrossEntropyLoss()\n",
        "    optimizer = optim.Adam(model.parameters(), lr=learning_rate)\n",
        "\n",
        "    training_loss = []\n",
        "    validation_loss = []\n",
        "    training_accuracy = []\n",
        "    validation_accuracy = []\n",
        "\n",
        "    for epoch in range(num_epochs):\n",
        "        avg_train_loss, train_accuracy = train_epoch(model, train_loader, criterion, optimizer, device) #model training\n",
        "        avg_val_loss, val_accuracy = evaluate_model(model, val_loader, criterion, device) #model evaluation\n",
        "\n",
        "        training_loss.append(avg_train_loss)\n",
        "        training_accuracy.append(train_accuracy)\n",
        "        validation_loss.append(avg_val_loss)\n",
        "        validation_accuracy.append(val_accuracy)\n",
        "\n",
        "        print(f'Epoch {epoch+1}/{num_epochs}, Training Loss: {avg_train_loss:.4f}, Training Accuracy: {train_accuracy:.2f}%, Validation Loss: {avg_val_loss:.4f}, Validation Accuracy: {val_accuracy:.2f}%')\n",
        "\n",
        "    # Return the trained model and the lists of training and validation metrics\n",
        "    return model, (training_loss, validation_loss, training_accuracy, validation_accuracy)\n"
      ]
    },
    {
      "cell_type": "markdown",
      "id": "dcf2b7d5-5d18-435f-ba79-045133b7d06f",
      "metadata": {
        "id": "dcf2b7d5-5d18-435f-ba79-045133b7d06f"
      },
      "source": [
        "This function combines the functionalities of train_epoch and evaluate_model and train the model for a specified number of epochs and evaluate it on the validation dataset."
      ]
    },
    {
      "cell_type": "code",
      "execution_count": 17,
      "id": "655fc04b-5c52-4616-84b4-d39dd159ae79",
      "metadata": {
        "id": "655fc04b-5c52-4616-84b4-d39dd159ae79"
      },
      "outputs": [],
      "source": []
    },
    {
      "cell_type": "code",
      "execution_count": 18,
      "id": "3d48a797",
      "metadata": {
        "id": "3d48a797"
      },
      "outputs": [],
      "source": [
        "conv_layers_list = [1, 2, 3]\n",
        "kernel_list = [3, 5, 7]\n",
        "dropout_list = [0.25, 0.50, 0.75]"
      ]
    },
    {
      "cell_type": "markdown",
      "id": "97c27725-ac28-42ae-913a-9984ab27ca8f",
      "metadata": {
        "id": "97c27725-ac28-42ae-913a-9984ab27ca8f"
      },
      "source": [
        "Below given code trains the model on different hyperparameters mentioned in above line of code and throws out the best_trained_model, best accuracy and best parameters of the trained model"
      ]
    },
    {
      "cell_type": "code",
      "execution_count": 19,
      "id": "58d5524e",
      "metadata": {
        "colab": {
          "base_uri": "https://localhost:8080/"
        },
        "id": "58d5524e",
        "outputId": "7cb7b3a7-790a-42b8-cf66-b9e585ab5d94"
      },
      "outputs": [
        {
          "output_type": "stream",
          "name": "stdout",
          "text": [
            "Training model with 1 layers, kernel size 3, dropout rate 0.25\n",
            "Training on device: cuda\n",
            "Epoch 1/10, Training Loss: 0.3351, Training Accuracy: 89.83%, Validation Loss: 0.1258, Validation Accuracy: 96.25%\n",
            "Epoch 2/10, Training Loss: 0.1261, Training Accuracy: 96.21%, Validation Loss: 0.0735, Validation Accuracy: 97.69%\n",
            "Epoch 3/10, Training Loss: 0.0941, Training Accuracy: 97.11%, Validation Loss: 0.0614, Validation Accuracy: 98.01%\n",
            "Epoch 4/10, Training Loss: 0.0771, Training Accuracy: 97.64%, Validation Loss: 0.0610, Validation Accuracy: 97.98%\n",
            "Epoch 5/10, Training Loss: 0.0666, Training Accuracy: 97.85%, Validation Loss: 0.0549, Validation Accuracy: 98.21%\n",
            "Epoch 6/10, Training Loss: 0.0570, Training Accuracy: 98.26%, Validation Loss: 0.0544, Validation Accuracy: 98.36%\n",
            "Epoch 7/10, Training Loss: 0.0500, Training Accuracy: 98.37%, Validation Loss: 0.0573, Validation Accuracy: 98.24%\n",
            "Epoch 8/10, Training Loss: 0.0470, Training Accuracy: 98.54%, Validation Loss: 0.0487, Validation Accuracy: 98.49%\n",
            "Epoch 9/10, Training Loss: 0.0430, Training Accuracy: 98.57%, Validation Loss: 0.0476, Validation Accuracy: 98.56%\n",
            "Epoch 10/10, Training Loss: 0.0370, Training Accuracy: 98.75%, Validation Loss: 0.0516, Validation Accuracy: 98.53%\n",
            "Training model with 1 layers, kernel size 3, dropout rate 0.5\n",
            "Training on device: cuda\n",
            "Epoch 1/10, Training Loss: 0.4527, Training Accuracy: 86.01%, Validation Loss: 0.1533, Validation Accuracy: 95.38%\n",
            "Epoch 2/10, Training Loss: 0.2291, Training Accuracy: 93.14%, Validation Loss: 0.1033, Validation Accuracy: 96.89%\n",
            "Epoch 3/10, Training Loss: 0.1838, Training Accuracy: 94.42%, Validation Loss: 0.0894, Validation Accuracy: 97.17%\n",
            "Epoch 4/10, Training Loss: 0.1538, Training Accuracy: 95.27%, Validation Loss: 0.0836, Validation Accuracy: 97.37%\n",
            "Epoch 5/10, Training Loss: 0.1387, Training Accuracy: 95.72%, Validation Loss: 0.0659, Validation Accuracy: 97.92%\n",
            "Epoch 6/10, Training Loss: 0.1280, Training Accuracy: 96.00%, Validation Loss: 0.0642, Validation Accuracy: 97.95%\n",
            "Epoch 7/10, Training Loss: 0.1189, Training Accuracy: 96.35%, Validation Loss: 0.0614, Validation Accuracy: 97.97%\n",
            "Epoch 8/10, Training Loss: 0.1110, Training Accuracy: 96.62%, Validation Loss: 0.0569, Validation Accuracy: 98.21%\n",
            "Epoch 9/10, Training Loss: 0.1061, Training Accuracy: 96.64%, Validation Loss: 0.0502, Validation Accuracy: 98.38%\n",
            "Epoch 10/10, Training Loss: 0.0973, Training Accuracy: 96.96%, Validation Loss: 0.0477, Validation Accuracy: 98.63%\n",
            "Training model with 1 layers, kernel size 3, dropout rate 0.75\n",
            "Training on device: cuda\n",
            "Epoch 1/10, Training Loss: 0.8516, Training Accuracy: 71.71%, Validation Loss: 0.2566, Validation Accuracy: 93.26%\n",
            "Epoch 2/10, Training Loss: 0.5656, Training Accuracy: 81.63%, Validation Loss: 0.1916, Validation Accuracy: 94.86%\n",
            "Epoch 3/10, Training Loss: 0.4912, Training Accuracy: 84.54%, Validation Loss: 0.1545, Validation Accuracy: 95.87%\n",
            "Epoch 4/10, Training Loss: 0.4486, Training Accuracy: 85.76%, Validation Loss: 0.1316, Validation Accuracy: 96.33%\n",
            "Epoch 5/10, Training Loss: 0.4144, Training Accuracy: 87.28%, Validation Loss: 0.1224, Validation Accuracy: 96.50%\n",
            "Epoch 6/10, Training Loss: 0.3835, Training Accuracy: 88.21%, Validation Loss: 0.1116, Validation Accuracy: 96.79%\n",
            "Epoch 7/10, Training Loss: 0.3591, Training Accuracy: 88.86%, Validation Loss: 0.1037, Validation Accuracy: 96.98%\n",
            "Epoch 8/10, Training Loss: 0.3437, Training Accuracy: 89.22%, Validation Loss: 0.0953, Validation Accuracy: 97.22%\n",
            "Epoch 9/10, Training Loss: 0.3348, Training Accuracy: 89.77%, Validation Loss: 0.0955, Validation Accuracy: 97.20%\n",
            "Epoch 10/10, Training Loss: 0.3322, Training Accuracy: 89.84%, Validation Loss: 0.0949, Validation Accuracy: 97.32%\n",
            "Training model with 1 layers, kernel size 5, dropout rate 0.25\n",
            "Training on device: cuda\n",
            "Epoch 1/10, Training Loss: 0.2550, Training Accuracy: 92.33%, Validation Loss: 0.0930, Validation Accuracy: 97.07%\n",
            "Epoch 2/10, Training Loss: 0.0934, Training Accuracy: 97.22%, Validation Loss: 0.0589, Validation Accuracy: 98.03%\n",
            "Epoch 3/10, Training Loss: 0.0717, Training Accuracy: 97.79%, Validation Loss: 0.0492, Validation Accuracy: 98.35%\n",
            "Epoch 4/10, Training Loss: 0.0576, Training Accuracy: 98.19%, Validation Loss: 0.0432, Validation Accuracy: 98.59%\n",
            "Epoch 5/10, Training Loss: 0.0483, Training Accuracy: 98.42%, Validation Loss: 0.0486, Validation Accuracy: 98.50%\n",
            "Epoch 6/10, Training Loss: 0.0426, Training Accuracy: 98.65%, Validation Loss: 0.0400, Validation Accuracy: 98.76%\n",
            "Epoch 7/10, Training Loss: 0.0367, Training Accuracy: 98.80%, Validation Loss: 0.0420, Validation Accuracy: 98.70%\n",
            "Epoch 8/10, Training Loss: 0.0340, Training Accuracy: 98.90%, Validation Loss: 0.0425, Validation Accuracy: 98.72%\n",
            "Epoch 9/10, Training Loss: 0.0293, Training Accuracy: 99.07%, Validation Loss: 0.0447, Validation Accuracy: 98.76%\n",
            "Epoch 10/10, Training Loss: 0.0275, Training Accuracy: 99.11%, Validation Loss: 0.0403, Validation Accuracy: 98.87%\n",
            "Training model with 1 layers, kernel size 5, dropout rate 0.5\n",
            "Training on device: cuda\n",
            "Epoch 1/10, Training Loss: 0.3677, Training Accuracy: 88.70%, Validation Loss: 0.1076, Validation Accuracy: 96.85%\n",
            "Epoch 2/10, Training Loss: 0.1705, Training Accuracy: 94.89%, Validation Loss: 0.0781, Validation Accuracy: 97.53%\n",
            "Epoch 3/10, Training Loss: 0.1369, Training Accuracy: 95.86%, Validation Loss: 0.0627, Validation Accuracy: 97.92%\n",
            "Epoch 4/10, Training Loss: 0.1178, Training Accuracy: 96.42%, Validation Loss: 0.0576, Validation Accuracy: 98.18%\n",
            "Epoch 5/10, Training Loss: 0.1024, Training Accuracy: 96.90%, Validation Loss: 0.0473, Validation Accuracy: 98.45%\n",
            "Epoch 6/10, Training Loss: 0.0955, Training Accuracy: 97.08%, Validation Loss: 0.0496, Validation Accuracy: 98.51%\n",
            "Epoch 7/10, Training Loss: 0.0862, Training Accuracy: 97.40%, Validation Loss: 0.0431, Validation Accuracy: 98.67%\n",
            "Epoch 8/10, Training Loss: 0.0844, Training Accuracy: 97.42%, Validation Loss: 0.0449, Validation Accuracy: 98.55%\n",
            "Epoch 9/10, Training Loss: 0.0786, Training Accuracy: 97.63%, Validation Loss: 0.0425, Validation Accuracy: 98.61%\n",
            "Epoch 10/10, Training Loss: 0.0742, Training Accuracy: 97.76%, Validation Loss: 0.0390, Validation Accuracy: 98.82%\n",
            "Training model with 1 layers, kernel size 5, dropout rate 0.75\n",
            "Training on device: cuda\n",
            "Epoch 1/10, Training Loss: 0.7116, Training Accuracy: 76.93%, Validation Loss: 0.1648, Validation Accuracy: 95.29%\n",
            "Epoch 2/10, Training Loss: 0.4175, Training Accuracy: 87.06%, Validation Loss: 0.1188, Validation Accuracy: 96.54%\n",
            "Epoch 3/10, Training Loss: 0.3527, Training Accuracy: 89.18%, Validation Loss: 0.0994, Validation Accuracy: 96.95%\n",
            "Epoch 4/10, Training Loss: 0.3177, Training Accuracy: 90.17%, Validation Loss: 0.0917, Validation Accuracy: 97.22%\n",
            "Epoch 5/10, Training Loss: 0.2976, Training Accuracy: 90.95%, Validation Loss: 0.0833, Validation Accuracy: 97.34%\n",
            "Epoch 6/10, Training Loss: 0.2771, Training Accuracy: 91.59%, Validation Loss: 0.0771, Validation Accuracy: 97.64%\n",
            "Epoch 7/10, Training Loss: 0.2656, Training Accuracy: 92.02%, Validation Loss: 0.0799, Validation Accuracy: 97.43%\n",
            "Epoch 8/10, Training Loss: 0.2596, Training Accuracy: 92.08%, Validation Loss: 0.0744, Validation Accuracy: 97.59%\n",
            "Epoch 9/10, Training Loss: 0.2570, Training Accuracy: 92.29%, Validation Loss: 0.0680, Validation Accuracy: 97.78%\n",
            "Epoch 10/10, Training Loss: 0.2463, Training Accuracy: 92.58%, Validation Loss: 0.0676, Validation Accuracy: 97.86%\n",
            "Training model with 1 layers, kernel size 7, dropout rate 0.25\n",
            "Training on device: cuda\n",
            "Epoch 1/10, Training Loss: 0.2431, Training Accuracy: 92.57%, Validation Loss: 0.0780, Validation Accuracy: 97.55%\n",
            "Epoch 2/10, Training Loss: 0.0899, Training Accuracy: 97.20%, Validation Loss: 0.0498, Validation Accuracy: 98.41%\n",
            "Epoch 3/10, Training Loss: 0.0656, Training Accuracy: 97.95%, Validation Loss: 0.0433, Validation Accuracy: 98.66%\n",
            "Epoch 4/10, Training Loss: 0.0531, Training Accuracy: 98.31%, Validation Loss: 0.0375, Validation Accuracy: 98.84%\n",
            "Epoch 5/10, Training Loss: 0.0442, Training Accuracy: 98.53%, Validation Loss: 0.0411, Validation Accuracy: 98.77%\n",
            "Epoch 6/10, Training Loss: 0.0383, Training Accuracy: 98.74%, Validation Loss: 0.0395, Validation Accuracy: 98.88%\n",
            "Epoch 7/10, Training Loss: 0.0334, Training Accuracy: 98.94%, Validation Loss: 0.0381, Validation Accuracy: 98.91%\n",
            "Epoch 8/10, Training Loss: 0.0304, Training Accuracy: 99.03%, Validation Loss: 0.0409, Validation Accuracy: 98.89%\n",
            "Epoch 9/10, Training Loss: 0.0262, Training Accuracy: 99.16%, Validation Loss: 0.0397, Validation Accuracy: 98.94%\n",
            "Epoch 10/10, Training Loss: 0.0245, Training Accuracy: 99.17%, Validation Loss: 0.0386, Validation Accuracy: 98.90%\n",
            "Training model with 1 layers, kernel size 7, dropout rate 0.5\n",
            "Training on device: cuda\n",
            "Epoch 1/10, Training Loss: 0.3455, Training Accuracy: 89.51%, Validation Loss: 0.0950, Validation Accuracy: 97.17%\n",
            "Epoch 2/10, Training Loss: 0.1497, Training Accuracy: 95.45%, Validation Loss: 0.0644, Validation Accuracy: 97.97%\n",
            "Epoch 3/10, Training Loss: 0.1212, Training Accuracy: 96.43%, Validation Loss: 0.0572, Validation Accuracy: 98.27%\n",
            "Epoch 4/10, Training Loss: 0.1051, Training Accuracy: 96.88%, Validation Loss: 0.0580, Validation Accuracy: 98.20%\n",
            "Epoch 5/10, Training Loss: 0.0945, Training Accuracy: 97.10%, Validation Loss: 0.0451, Validation Accuracy: 98.62%\n",
            "Epoch 6/10, Training Loss: 0.0895, Training Accuracy: 97.22%, Validation Loss: 0.0445, Validation Accuracy: 98.59%\n",
            "Epoch 7/10, Training Loss: 0.0844, Training Accuracy: 97.40%, Validation Loss: 0.0398, Validation Accuracy: 98.78%\n",
            "Epoch 8/10, Training Loss: 0.0758, Training Accuracy: 97.64%, Validation Loss: 0.0423, Validation Accuracy: 98.67%\n",
            "Epoch 9/10, Training Loss: 0.0727, Training Accuracy: 97.82%, Validation Loss: 0.0385, Validation Accuracy: 98.72%\n",
            "Epoch 10/10, Training Loss: 0.0684, Training Accuracy: 97.90%, Validation Loss: 0.0389, Validation Accuracy: 98.72%\n",
            "Training model with 1 layers, kernel size 7, dropout rate 0.75\n",
            "Training on device: cuda\n",
            "Epoch 1/10, Training Loss: 0.6234, Training Accuracy: 79.98%, Validation Loss: 0.1414, Validation Accuracy: 96.18%\n",
            "Epoch 2/10, Training Loss: 0.3425, Training Accuracy: 89.63%, Validation Loss: 0.1031, Validation Accuracy: 96.88%\n",
            "Epoch 3/10, Training Loss: 0.2948, Training Accuracy: 91.10%, Validation Loss: 0.0849, Validation Accuracy: 97.37%\n",
            "Epoch 4/10, Training Loss: 0.2693, Training Accuracy: 91.93%, Validation Loss: 0.0775, Validation Accuracy: 97.66%\n",
            "Epoch 5/10, Training Loss: 0.2498, Training Accuracy: 92.36%, Validation Loss: 0.0708, Validation Accuracy: 97.85%\n",
            "Epoch 6/10, Training Loss: 0.2345, Training Accuracy: 92.97%, Validation Loss: 0.0680, Validation Accuracy: 97.83%\n",
            "Epoch 7/10, Training Loss: 0.2284, Training Accuracy: 93.21%, Validation Loss: 0.0659, Validation Accuracy: 98.02%\n",
            "Epoch 8/10, Training Loss: 0.2188, Training Accuracy: 93.62%, Validation Loss: 0.0609, Validation Accuracy: 98.11%\n",
            "Epoch 9/10, Training Loss: 0.2165, Training Accuracy: 93.60%, Validation Loss: 0.0581, Validation Accuracy: 98.22%\n",
            "Epoch 10/10, Training Loss: 0.2018, Training Accuracy: 93.95%, Validation Loss: 0.0597, Validation Accuracy: 98.18%\n",
            "Training model with 2 layers, kernel size 3, dropout rate 0.25\n",
            "Training on device: cuda\n",
            "Epoch 1/10, Training Loss: 0.3159, Training Accuracy: 90.03%, Validation Loss: 0.0968, Validation Accuracy: 96.84%\n",
            "Epoch 2/10, Training Loss: 0.1210, Training Accuracy: 96.35%, Validation Loss: 0.0702, Validation Accuracy: 97.84%\n",
            "Epoch 3/10, Training Loss: 0.0937, Training Accuracy: 97.13%, Validation Loss: 0.0473, Validation Accuracy: 98.40%\n",
            "Epoch 4/10, Training Loss: 0.0767, Training Accuracy: 97.71%, Validation Loss: 0.0391, Validation Accuracy: 98.74%\n",
            "Epoch 5/10, Training Loss: 0.0699, Training Accuracy: 97.79%, Validation Loss: 0.0394, Validation Accuracy: 98.74%\n",
            "Epoch 6/10, Training Loss: 0.0594, Training Accuracy: 98.17%, Validation Loss: 0.0360, Validation Accuracy: 98.82%\n",
            "Epoch 7/10, Training Loss: 0.0560, Training Accuracy: 98.21%, Validation Loss: 0.0358, Validation Accuracy: 98.95%\n",
            "Epoch 8/10, Training Loss: 0.0506, Training Accuracy: 98.42%, Validation Loss: 0.0323, Validation Accuracy: 98.99%\n",
            "Epoch 9/10, Training Loss: 0.0483, Training Accuracy: 98.46%, Validation Loss: 0.0316, Validation Accuracy: 99.03%\n",
            "Epoch 10/10, Training Loss: 0.0425, Training Accuracy: 98.65%, Validation Loss: 0.0354, Validation Accuracy: 98.95%\n",
            "Training model with 2 layers, kernel size 3, dropout rate 0.5\n",
            "Training on device: cuda\n",
            "Epoch 1/10, Training Loss: 0.5341, Training Accuracy: 82.73%, Validation Loss: 0.1348, Validation Accuracy: 96.07%\n",
            "Epoch 2/10, Training Loss: 0.2461, Training Accuracy: 92.42%, Validation Loss: 0.0918, Validation Accuracy: 97.43%\n",
            "Epoch 3/10, Training Loss: 0.2090, Training Accuracy: 93.78%, Validation Loss: 0.0741, Validation Accuracy: 97.69%\n",
            "Epoch 4/10, Training Loss: 0.1810, Training Accuracy: 94.53%, Validation Loss: 0.0684, Validation Accuracy: 97.99%\n",
            "Epoch 5/10, Training Loss: 0.1668, Training Accuracy: 94.97%, Validation Loss: 0.0577, Validation Accuracy: 98.29%\n",
            "Epoch 6/10, Training Loss: 0.1546, Training Accuracy: 95.38%, Validation Loss: 0.0550, Validation Accuracy: 98.30%\n",
            "Epoch 7/10, Training Loss: 0.1422, Training Accuracy: 95.62%, Validation Loss: 0.0513, Validation Accuracy: 98.45%\n",
            "Epoch 8/10, Training Loss: 0.1356, Training Accuracy: 95.96%, Validation Loss: 0.0494, Validation Accuracy: 98.41%\n",
            "Epoch 9/10, Training Loss: 0.1284, Training Accuracy: 96.13%, Validation Loss: 0.0477, Validation Accuracy: 98.53%\n",
            "Epoch 10/10, Training Loss: 0.1253, Training Accuracy: 96.15%, Validation Loss: 0.0427, Validation Accuracy: 98.63%\n",
            "Training model with 2 layers, kernel size 3, dropout rate 0.75\n",
            "Training on device: cuda\n",
            "Epoch 1/10, Training Loss: 1.1580, Training Accuracy: 59.93%, Validation Loss: 0.4057, Validation Accuracy: 91.88%\n",
            "Epoch 2/10, Training Loss: 0.7006, Training Accuracy: 77.29%, Validation Loss: 0.2747, Validation Accuracy: 94.62%\n",
            "Epoch 3/10, Training Loss: 0.5899, Training Accuracy: 81.28%, Validation Loss: 0.2040, Validation Accuracy: 95.40%\n",
            "Epoch 4/10, Training Loss: 0.5296, Training Accuracy: 83.60%, Validation Loss: 0.1727, Validation Accuracy: 95.81%\n",
            "Epoch 5/10, Training Loss: 0.5115, Training Accuracy: 84.32%, Validation Loss: 0.1788, Validation Accuracy: 96.07%\n",
            "Epoch 6/10, Training Loss: 0.4878, Training Accuracy: 84.95%, Validation Loss: 0.1641, Validation Accuracy: 96.42%\n",
            "Epoch 7/10, Training Loss: 0.4671, Training Accuracy: 85.96%, Validation Loss: 0.1654, Validation Accuracy: 96.23%\n",
            "Epoch 8/10, Training Loss: 0.4529, Training Accuracy: 86.24%, Validation Loss: 0.1552, Validation Accuracy: 96.45%\n",
            "Epoch 9/10, Training Loss: 0.4381, Training Accuracy: 86.61%, Validation Loss: 0.1427, Validation Accuracy: 96.67%\n",
            "Epoch 10/10, Training Loss: 0.4291, Training Accuracy: 86.93%, Validation Loss: 0.1437, Validation Accuracy: 96.64%\n",
            "Training model with 2 layers, kernel size 5, dropout rate 0.25\n",
            "Training on device: cuda\n",
            "Epoch 1/10, Training Loss: 0.2610, Training Accuracy: 91.75%, Validation Loss: 0.0736, Validation Accuracy: 97.57%\n",
            "Epoch 2/10, Training Loss: 0.0940, Training Accuracy: 97.18%, Validation Loss: 0.0541, Validation Accuracy: 98.31%\n",
            "Epoch 3/10, Training Loss: 0.0729, Training Accuracy: 97.77%, Validation Loss: 0.0408, Validation Accuracy: 98.62%\n",
            "Epoch 4/10, Training Loss: 0.0589, Training Accuracy: 98.18%, Validation Loss: 0.0362, Validation Accuracy: 98.80%\n",
            "Epoch 5/10, Training Loss: 0.0509, Training Accuracy: 98.43%, Validation Loss: 0.0321, Validation Accuracy: 99.03%\n",
            "Epoch 6/10, Training Loss: 0.0475, Training Accuracy: 98.50%, Validation Loss: 0.0337, Validation Accuracy: 98.92%\n",
            "Epoch 7/10, Training Loss: 0.0419, Training Accuracy: 98.71%, Validation Loss: 0.0338, Validation Accuracy: 99.06%\n",
            "Epoch 8/10, Training Loss: 0.0385, Training Accuracy: 98.81%, Validation Loss: 0.0306, Validation Accuracy: 98.88%\n",
            "Epoch 9/10, Training Loss: 0.0358, Training Accuracy: 98.89%, Validation Loss: 0.0343, Validation Accuracy: 98.95%\n",
            "Epoch 10/10, Training Loss: 0.0340, Training Accuracy: 98.93%, Validation Loss: 0.0329, Validation Accuracy: 99.03%\n",
            "Training model with 2 layers, kernel size 5, dropout rate 0.5\n",
            "Training on device: cuda\n",
            "Epoch 1/10, Training Loss: 0.3915, Training Accuracy: 87.60%, Validation Loss: 0.0934, Validation Accuracy: 97.03%\n",
            "Epoch 2/10, Training Loss: 0.1713, Training Accuracy: 94.91%, Validation Loss: 0.0655, Validation Accuracy: 97.88%\n",
            "Epoch 3/10, Training Loss: 0.1426, Training Accuracy: 95.75%, Validation Loss: 0.0521, Validation Accuracy: 98.42%\n",
            "Epoch 4/10, Training Loss: 0.1266, Training Accuracy: 96.19%, Validation Loss: 0.0486, Validation Accuracy: 98.51%\n",
            "Epoch 5/10, Training Loss: 0.1169, Training Accuracy: 96.48%, Validation Loss: 0.0474, Validation Accuracy: 98.58%\n",
            "Epoch 6/10, Training Loss: 0.1029, Training Accuracy: 96.98%, Validation Loss: 0.0454, Validation Accuracy: 98.69%\n",
            "Epoch 7/10, Training Loss: 0.1007, Training Accuracy: 97.02%, Validation Loss: 0.0396, Validation Accuracy: 98.83%\n",
            "Epoch 8/10, Training Loss: 0.1008, Training Accuracy: 96.98%, Validation Loss: 0.0395, Validation Accuracy: 98.77%\n",
            "Epoch 9/10, Training Loss: 0.0889, Training Accuracy: 97.30%, Validation Loss: 0.0361, Validation Accuracy: 98.94%\n",
            "Epoch 10/10, Training Loss: 0.0933, Training Accuracy: 97.22%, Validation Loss: 0.0382, Validation Accuracy: 98.78%\n",
            "Training model with 2 layers, kernel size 5, dropout rate 0.75\n",
            "Training on device: cuda\n",
            "Epoch 1/10, Training Loss: 0.9107, Training Accuracy: 69.22%, Validation Loss: 0.2224, Validation Accuracy: 95.47%\n",
            "Epoch 2/10, Training Loss: 0.4997, Training Accuracy: 84.48%, Validation Loss: 0.1496, Validation Accuracy: 96.15%\n",
            "Epoch 3/10, Training Loss: 0.4330, Training Accuracy: 86.64%, Validation Loss: 0.1390, Validation Accuracy: 96.83%\n",
            "Epoch 4/10, Training Loss: 0.3925, Training Accuracy: 87.89%, Validation Loss: 0.1179, Validation Accuracy: 97.01%\n",
            "Epoch 5/10, Training Loss: 0.3792, Training Accuracy: 88.44%, Validation Loss: 0.1301, Validation Accuracy: 97.06%\n",
            "Epoch 6/10, Training Loss: 0.3643, Training Accuracy: 88.99%, Validation Loss: 0.1184, Validation Accuracy: 97.15%\n",
            "Epoch 7/10, Training Loss: 0.3552, Training Accuracy: 89.38%, Validation Loss: 0.1276, Validation Accuracy: 96.83%\n",
            "Epoch 8/10, Training Loss: 0.3459, Training Accuracy: 89.81%, Validation Loss: 0.1110, Validation Accuracy: 97.35%\n",
            "Epoch 9/10, Training Loss: 0.3381, Training Accuracy: 90.03%, Validation Loss: 0.1053, Validation Accuracy: 97.42%\n",
            "Epoch 10/10, Training Loss: 0.3325, Training Accuracy: 90.30%, Validation Loss: 0.1009, Validation Accuracy: 97.41%\n",
            "Training model with 2 layers, kernel size 7, dropout rate 0.25\n",
            "Training on device: cuda\n",
            "Epoch 1/10, Training Loss: 0.2191, Training Accuracy: 92.96%, Validation Loss: 0.0664, Validation Accuracy: 97.86%\n",
            "Epoch 2/10, Training Loss: 0.0798, Training Accuracy: 97.57%, Validation Loss: 0.0447, Validation Accuracy: 98.53%\n",
            "Epoch 3/10, Training Loss: 0.0634, Training Accuracy: 98.06%, Validation Loss: 0.0417, Validation Accuracy: 98.67%\n",
            "Epoch 4/10, Training Loss: 0.0528, Training Accuracy: 98.35%, Validation Loss: 0.0364, Validation Accuracy: 98.80%\n",
            "Epoch 5/10, Training Loss: 0.0451, Training Accuracy: 98.57%, Validation Loss: 0.0436, Validation Accuracy: 98.72%\n",
            "Epoch 6/10, Training Loss: 0.0394, Training Accuracy: 98.77%, Validation Loss: 0.0321, Validation Accuracy: 99.13%\n",
            "Epoch 7/10, Training Loss: 0.0358, Training Accuracy: 98.93%, Validation Loss: 0.0351, Validation Accuracy: 99.01%\n",
            "Epoch 8/10, Training Loss: 0.0351, Training Accuracy: 98.94%, Validation Loss: 0.0403, Validation Accuracy: 98.81%\n",
            "Epoch 9/10, Training Loss: 0.0310, Training Accuracy: 99.04%, Validation Loss: 0.0343, Validation Accuracy: 98.99%\n",
            "Epoch 10/10, Training Loss: 0.0305, Training Accuracy: 99.06%, Validation Loss: 0.0292, Validation Accuracy: 99.06%\n",
            "Training model with 2 layers, kernel size 7, dropout rate 0.5\n",
            "Training on device: cuda\n",
            "Epoch 1/10, Training Loss: 0.3533, Training Accuracy: 88.91%, Validation Loss: 0.0867, Validation Accuracy: 97.31%\n",
            "Epoch 2/10, Training Loss: 0.1517, Training Accuracy: 95.57%, Validation Loss: 0.0584, Validation Accuracy: 98.21%\n",
            "Epoch 3/10, Training Loss: 0.1238, Training Accuracy: 96.35%, Validation Loss: 0.0527, Validation Accuracy: 98.48%\n",
            "Epoch 4/10, Training Loss: 0.1095, Training Accuracy: 96.76%, Validation Loss: 0.0510, Validation Accuracy: 98.41%\n",
            "Epoch 5/10, Training Loss: 0.1022, Training Accuracy: 97.00%, Validation Loss: 0.0385, Validation Accuracy: 98.84%\n",
            "Epoch 6/10, Training Loss: 0.0952, Training Accuracy: 97.13%, Validation Loss: 0.0384, Validation Accuracy: 98.78%\n",
            "Epoch 7/10, Training Loss: 0.0908, Training Accuracy: 97.33%, Validation Loss: 0.0472, Validation Accuracy: 98.58%\n",
            "Epoch 8/10, Training Loss: 0.0866, Training Accuracy: 97.44%, Validation Loss: 0.0360, Validation Accuracy: 98.95%\n",
            "Epoch 9/10, Training Loss: 0.0833, Training Accuracy: 97.60%, Validation Loss: 0.0350, Validation Accuracy: 98.92%\n",
            "Epoch 10/10, Training Loss: 0.0823, Training Accuracy: 97.59%, Validation Loss: 0.0361, Validation Accuracy: 98.88%\n",
            "Training model with 2 layers, kernel size 7, dropout rate 0.75\n",
            "Training on device: cuda\n",
            "Epoch 1/10, Training Loss: 0.8303, Training Accuracy: 72.22%, Validation Loss: 0.1903, Validation Accuracy: 95.59%\n",
            "Epoch 2/10, Training Loss: 0.4224, Training Accuracy: 87.05%, Validation Loss: 0.1277, Validation Accuracy: 96.69%\n",
            "Epoch 3/10, Training Loss: 0.3636, Training Accuracy: 89.01%, Validation Loss: 0.1191, Validation Accuracy: 96.79%\n",
            "Epoch 4/10, Training Loss: 0.3394, Training Accuracy: 89.76%, Validation Loss: 0.1080, Validation Accuracy: 97.17%\n",
            "Epoch 5/10, Training Loss: 0.3210, Training Accuracy: 90.45%, Validation Loss: 0.1022, Validation Accuracy: 97.36%\n",
            "Epoch 6/10, Training Loss: 0.3083, Training Accuracy: 90.97%, Validation Loss: 0.1011, Validation Accuracy: 97.42%\n",
            "Epoch 7/10, Training Loss: 0.3091, Training Accuracy: 90.92%, Validation Loss: 0.0967, Validation Accuracy: 97.58%\n",
            "Epoch 8/10, Training Loss: 0.2975, Training Accuracy: 91.21%, Validation Loss: 0.0972, Validation Accuracy: 97.40%\n",
            "Epoch 9/10, Training Loss: 0.2910, Training Accuracy: 91.49%, Validation Loss: 0.0896, Validation Accuracy: 97.78%\n",
            "Epoch 10/10, Training Loss: 0.2825, Training Accuracy: 91.72%, Validation Loss: 0.1011, Validation Accuracy: 97.33%\n",
            "Training model with 3 layers, kernel size 3, dropout rate 0.25\n",
            "Training on device: cuda\n",
            "Epoch 1/10, Training Loss: 0.3695, Training Accuracy: 87.78%, Validation Loss: 0.0888, Validation Accuracy: 97.17%\n",
            "Epoch 2/10, Training Loss: 0.1236, Training Accuracy: 96.19%, Validation Loss: 0.0663, Validation Accuracy: 97.88%\n",
            "Epoch 3/10, Training Loss: 0.0944, Training Accuracy: 96.95%, Validation Loss: 0.0492, Validation Accuracy: 98.48%\n",
            "Epoch 4/10, Training Loss: 0.0802, Training Accuracy: 97.54%, Validation Loss: 0.0454, Validation Accuracy: 98.53%\n",
            "Epoch 5/10, Training Loss: 0.0710, Training Accuracy: 97.85%, Validation Loss: 0.0421, Validation Accuracy: 98.62%\n",
            "Epoch 6/10, Training Loss: 0.0663, Training Accuracy: 98.00%, Validation Loss: 0.0359, Validation Accuracy: 98.87%\n",
            "Epoch 7/10, Training Loss: 0.0622, Training Accuracy: 98.05%, Validation Loss: 0.0388, Validation Accuracy: 98.74%\n",
            "Epoch 8/10, Training Loss: 0.0551, Training Accuracy: 98.28%, Validation Loss: 0.0307, Validation Accuracy: 99.06%\n",
            "Epoch 9/10, Training Loss: 0.0560, Training Accuracy: 98.25%, Validation Loss: 0.0345, Validation Accuracy: 99.01%\n",
            "Epoch 10/10, Training Loss: 0.0507, Training Accuracy: 98.45%, Validation Loss: 0.0307, Validation Accuracy: 99.12%\n",
            "Training model with 3 layers, kernel size 3, dropout rate 0.5\n",
            "Training on device: cuda\n",
            "Epoch 1/10, Training Loss: 0.6653, Training Accuracy: 77.83%, Validation Loss: 0.1194, Validation Accuracy: 96.37%\n",
            "Epoch 2/10, Training Loss: 0.2667, Training Accuracy: 91.94%, Validation Loss: 0.0962, Validation Accuracy: 96.92%\n",
            "Epoch 3/10, Training Loss: 0.2243, Training Accuracy: 93.23%, Validation Loss: 0.0712, Validation Accuracy: 97.64%\n",
            "Epoch 4/10, Training Loss: 0.2026, Training Accuracy: 93.89%, Validation Loss: 0.0713, Validation Accuracy: 97.65%\n",
            "Epoch 5/10, Training Loss: 0.1914, Training Accuracy: 94.29%, Validation Loss: 0.0592, Validation Accuracy: 98.08%\n",
            "Epoch 6/10, Training Loss: 0.1803, Training Accuracy: 94.64%, Validation Loss: 0.0583, Validation Accuracy: 98.14%\n",
            "Epoch 7/10, Training Loss: 0.1703, Training Accuracy: 94.94%, Validation Loss: 0.0516, Validation Accuracy: 98.41%\n",
            "Epoch 8/10, Training Loss: 0.1642, Training Accuracy: 95.21%, Validation Loss: 0.0493, Validation Accuracy: 98.38%\n",
            "Epoch 9/10, Training Loss: 0.1616, Training Accuracy: 95.28%, Validation Loss: 0.0473, Validation Accuracy: 98.47%\n",
            "Epoch 10/10, Training Loss: 0.1552, Training Accuracy: 95.35%, Validation Loss: 0.0478, Validation Accuracy: 98.48%\n",
            "Training model with 3 layers, kernel size 3, dropout rate 0.75\n",
            "Training on device: cuda\n",
            "Epoch 1/10, Training Loss: 1.7874, Training Accuracy: 35.02%, Validation Loss: 1.0431, Validation Accuracy: 82.67%\n",
            "Epoch 2/10, Training Loss: 1.1004, Training Accuracy: 62.66%, Validation Loss: 0.5726, Validation Accuracy: 90.04%\n",
            "Epoch 3/10, Training Loss: 0.9148, Training Accuracy: 70.13%, Validation Loss: 0.4249, Validation Accuracy: 92.47%\n",
            "Epoch 4/10, Training Loss: 0.8201, Training Accuracy: 73.95%, Validation Loss: 0.3647, Validation Accuracy: 93.24%\n",
            "Epoch 5/10, Training Loss: 0.7614, Training Accuracy: 75.95%, Validation Loss: 0.3106, Validation Accuracy: 93.34%\n",
            "Epoch 6/10, Training Loss: 0.7212, Training Accuracy: 77.47%, Validation Loss: 0.3122, Validation Accuracy: 93.49%\n",
            "Epoch 7/10, Training Loss: 0.7175, Training Accuracy: 77.78%, Validation Loss: 0.2504, Validation Accuracy: 94.19%\n",
            "Epoch 8/10, Training Loss: 0.6828, Training Accuracy: 78.90%, Validation Loss: 0.2713, Validation Accuracy: 94.63%\n",
            "Epoch 9/10, Training Loss: 0.6726, Training Accuracy: 79.42%, Validation Loss: 0.2524, Validation Accuracy: 94.38%\n",
            "Epoch 10/10, Training Loss: 0.6539, Training Accuracy: 79.80%, Validation Loss: 0.2305, Validation Accuracy: 94.38%\n",
            "Training model with 3 layers, kernel size 5, dropout rate 0.25\n",
            "Training on device: cuda\n",
            "Epoch 1/10, Training Loss: 0.2719, Training Accuracy: 91.38%, Validation Loss: 0.0743, Validation Accuracy: 97.61%\n",
            "Epoch 2/10, Training Loss: 0.1004, Training Accuracy: 97.00%, Validation Loss: 0.0525, Validation Accuracy: 98.39%\n",
            "Epoch 3/10, Training Loss: 0.0766, Training Accuracy: 97.70%, Validation Loss: 0.0399, Validation Accuracy: 98.70%\n",
            "Epoch 4/10, Training Loss: 0.0637, Training Accuracy: 98.06%, Validation Loss: 0.0379, Validation Accuracy: 98.72%\n",
            "Epoch 5/10, Training Loss: 0.0555, Training Accuracy: 98.34%, Validation Loss: 0.0396, Validation Accuracy: 98.76%\n",
            "Epoch 6/10, Training Loss: 0.0514, Training Accuracy: 98.41%, Validation Loss: 0.0375, Validation Accuracy: 98.90%\n",
            "Epoch 7/10, Training Loss: 0.0471, Training Accuracy: 98.60%, Validation Loss: 0.0337, Validation Accuracy: 98.98%\n",
            "Epoch 8/10, Training Loss: 0.0454, Training Accuracy: 98.69%, Validation Loss: 0.0353, Validation Accuracy: 98.97%\n",
            "Epoch 9/10, Training Loss: 0.0424, Training Accuracy: 98.77%, Validation Loss: 0.0294, Validation Accuracy: 99.11%\n",
            "Epoch 10/10, Training Loss: 0.0384, Training Accuracy: 98.83%, Validation Loss: 0.0359, Validation Accuracy: 98.94%\n",
            "Training model with 3 layers, kernel size 5, dropout rate 0.5\n",
            "Training on device: cuda\n",
            "Epoch 1/10, Training Loss: 0.4976, Training Accuracy: 83.73%, Validation Loss: 0.0926, Validation Accuracy: 97.17%\n",
            "Epoch 2/10, Training Loss: 0.1958, Training Accuracy: 94.21%, Validation Loss: 0.0649, Validation Accuracy: 97.79%\n",
            "Epoch 3/10, Training Loss: 0.1589, Training Accuracy: 95.41%, Validation Loss: 0.0522, Validation Accuracy: 98.38%\n",
            "Epoch 4/10, Training Loss: 0.1473, Training Accuracy: 95.80%, Validation Loss: 0.0458, Validation Accuracy: 98.69%\n",
            "Epoch 5/10, Training Loss: 0.1314, Training Accuracy: 96.17%, Validation Loss: 0.0496, Validation Accuracy: 98.43%\n",
            "Epoch 6/10, Training Loss: 0.1250, Training Accuracy: 96.36%, Validation Loss: 0.0475, Validation Accuracy: 98.42%\n",
            "Epoch 7/10, Training Loss: 0.1203, Training Accuracy: 96.53%, Validation Loss: 0.0410, Validation Accuracy: 98.72%\n",
            "Epoch 8/10, Training Loss: 0.1210, Training Accuracy: 96.47%, Validation Loss: 0.0459, Validation Accuracy: 98.47%\n",
            "Epoch 9/10, Training Loss: 0.1136, Training Accuracy: 96.72%, Validation Loss: 0.0384, Validation Accuracy: 98.78%\n",
            "Epoch 10/10, Training Loss: 0.1139, Training Accuracy: 96.71%, Validation Loss: 0.0379, Validation Accuracy: 98.73%\n",
            "Training model with 3 layers, kernel size 5, dropout rate 0.75\n",
            "Training on device: cuda\n",
            "Epoch 1/10, Training Loss: 1.3769, Training Accuracy: 51.09%, Validation Loss: 0.5851, Validation Accuracy: 85.53%\n",
            "Epoch 2/10, Training Loss: 0.7561, Training Accuracy: 75.91%, Validation Loss: 0.3860, Validation Accuracy: 90.82%\n",
            "Epoch 3/10, Training Loss: 0.6488, Training Accuracy: 79.93%, Validation Loss: 0.2744, Validation Accuracy: 92.88%\n",
            "Epoch 4/10, Training Loss: 0.6018, Training Accuracy: 81.88%, Validation Loss: 0.2618, Validation Accuracy: 92.60%\n",
            "Epoch 5/10, Training Loss: 0.5588, Training Accuracy: 83.14%, Validation Loss: 0.3098, Validation Accuracy: 91.66%\n",
            "Epoch 6/10, Training Loss: 0.5367, Training Accuracy: 84.16%, Validation Loss: 0.1969, Validation Accuracy: 95.07%\n",
            "Epoch 7/10, Training Loss: 0.5261, Training Accuracy: 84.59%, Validation Loss: 0.2365, Validation Accuracy: 93.60%\n",
            "Epoch 8/10, Training Loss: 0.4977, Training Accuracy: 85.34%, Validation Loss: 0.1923, Validation Accuracy: 94.83%\n",
            "Epoch 9/10, Training Loss: 0.4904, Training Accuracy: 85.60%, Validation Loss: 0.1844, Validation Accuracy: 94.96%\n",
            "Epoch 10/10, Training Loss: 0.4860, Training Accuracy: 85.62%, Validation Loss: 0.1739, Validation Accuracy: 95.21%\n",
            "Training model with 3 layers, kernel size 7, dropout rate 0.25\n",
            "Training on device: cuda\n",
            "Epoch 1/10, Training Loss: 0.2425, Training Accuracy: 92.15%, Validation Loss: 0.0670, Validation Accuracy: 97.97%\n",
            "Epoch 2/10, Training Loss: 0.0789, Training Accuracy: 97.61%, Validation Loss: 0.0481, Validation Accuracy: 98.58%\n",
            "Epoch 3/10, Training Loss: 0.0636, Training Accuracy: 98.15%, Validation Loss: 0.0397, Validation Accuracy: 98.82%\n",
            "Epoch 4/10, Training Loss: 0.0547, Training Accuracy: 98.38%, Validation Loss: 0.0361, Validation Accuracy: 98.91%\n",
            "Epoch 5/10, Training Loss: 0.0485, Training Accuracy: 98.55%, Validation Loss: 0.0411, Validation Accuracy: 98.85%\n",
            "Epoch 6/10, Training Loss: 0.0445, Training Accuracy: 98.65%, Validation Loss: 0.0435, Validation Accuracy: 98.83%\n",
            "Epoch 7/10, Training Loss: 0.0404, Training Accuracy: 98.85%, Validation Loss: 0.0379, Validation Accuracy: 98.88%\n",
            "Epoch 8/10, Training Loss: 0.0388, Training Accuracy: 98.81%, Validation Loss: 0.0376, Validation Accuracy: 99.02%\n",
            "Epoch 9/10, Training Loss: 0.0364, Training Accuracy: 98.94%, Validation Loss: 0.0322, Validation Accuracy: 99.09%\n",
            "Epoch 10/10, Training Loss: 0.0347, Training Accuracy: 99.00%, Validation Loss: 0.0333, Validation Accuracy: 99.09%\n",
            "Training model with 3 layers, kernel size 7, dropout rate 0.5\n",
            "Training on device: cuda\n",
            "Epoch 1/10, Training Loss: 0.4455, Training Accuracy: 85.48%, Validation Loss: 0.0820, Validation Accuracy: 97.55%\n",
            "Epoch 2/10, Training Loss: 0.1680, Training Accuracy: 95.20%, Validation Loss: 0.0644, Validation Accuracy: 97.85%\n",
            "Epoch 3/10, Training Loss: 0.1394, Training Accuracy: 96.00%, Validation Loss: 0.0494, Validation Accuracy: 98.55%\n",
            "Epoch 4/10, Training Loss: 0.1270, Training Accuracy: 96.42%, Validation Loss: 0.0458, Validation Accuracy: 98.55%\n",
            "Epoch 5/10, Training Loss: 0.1161, Training Accuracy: 96.76%, Validation Loss: 0.0464, Validation Accuracy: 98.66%\n",
            "Epoch 6/10, Training Loss: 0.1124, Training Accuracy: 96.89%, Validation Loss: 0.0406, Validation Accuracy: 98.78%\n",
            "Epoch 7/10, Training Loss: 0.1064, Training Accuracy: 97.01%, Validation Loss: 0.0406, Validation Accuracy: 98.79%\n",
            "Epoch 8/10, Training Loss: 0.1012, Training Accuracy: 97.12%, Validation Loss: 0.0373, Validation Accuracy: 98.82%\n",
            "Epoch 9/10, Training Loss: 0.1017, Training Accuracy: 97.11%, Validation Loss: 0.0399, Validation Accuracy: 98.82%\n",
            "Epoch 10/10, Training Loss: 0.0963, Training Accuracy: 97.25%, Validation Loss: 0.0337, Validation Accuracy: 99.08%\n",
            "Training model with 3 layers, kernel size 7, dropout rate 0.75\n",
            "Training on device: cuda\n",
            "Epoch 1/10, Training Loss: 1.2001, Training Accuracy: 57.75%, Validation Loss: 0.3661, Validation Accuracy: 93.60%\n",
            "Epoch 2/10, Training Loss: 0.5828, Training Accuracy: 82.40%, Validation Loss: 0.2777, Validation Accuracy: 94.24%\n",
            "Epoch 3/10, Training Loss: 0.4983, Training Accuracy: 85.26%, Validation Loss: 0.1851, Validation Accuracy: 95.83%\n",
            "Epoch 4/10, Training Loss: 0.4665, Training Accuracy: 86.44%, Validation Loss: 0.1934, Validation Accuracy: 95.44%\n",
            "Epoch 5/10, Training Loss: 0.4421, Training Accuracy: 87.47%, Validation Loss: 0.1559, Validation Accuracy: 96.37%\n",
            "Epoch 6/10, Training Loss: 0.4254, Training Accuracy: 87.83%, Validation Loss: 0.1420, Validation Accuracy: 96.55%\n",
            "Epoch 7/10, Training Loss: 0.4103, Training Accuracy: 88.29%, Validation Loss: 0.1478, Validation Accuracy: 96.40%\n",
            "Epoch 8/10, Training Loss: 0.4049, Training Accuracy: 88.47%, Validation Loss: 0.1442, Validation Accuracy: 96.43%\n",
            "Epoch 9/10, Training Loss: 0.3902, Training Accuracy: 88.91%, Validation Loss: 0.1126, Validation Accuracy: 97.36%\n",
            "Epoch 10/10, Training Loss: 0.3929, Training Accuracy: 89.03%, Validation Loss: 0.1391, Validation Accuracy: 96.74%\n",
            "Best Model Parameters: {'num_layers': 3, 'kernel_size': 3, 'dropout_rate': 0.25}\n",
            "Best Validation Accuracy: 99.12%\n"
          ]
        }
      ],
      "source": [
        "best_overall_accuracy = 0\n",
        "best_params = {}\n",
        "best_overall_model = None\n",
        "# Iterate over each combination of parameters\n",
        "for num_layers in conv_layers_list:\n",
        "    for kernel_size in kernel_list:\n",
        "        for dropout_rate in dropout_list:\n",
        "            model = CNN(num_layers=num_layers, kernel_size=kernel_size, dropout_rate=dropout_rate)\n",
        "            print(f\"Training model with {num_layers} layers, kernel size {kernel_size}, dropout rate {dropout_rate}\")\n",
        "            trained_model, (training_loss, validation_loss, training_accuracy, validation_accuracy) = train_model(model, train_loader, val_loader, num_epochs=10, learning_rate=0.001)\n",
        "\n",
        "            val_accuracy = validation_accuracy[-1]\n",
        "\n",
        "            # Compare the maximum validation accuracy with the best overall accuracy\n",
        "            if val_accuracy > best_overall_accuracy:\n",
        "                best_overall_accuracy = val_accuracy\n",
        "                best_overall_model = trained_model\n",
        "                best_params = {'num_layers': num_layers, 'kernel_size': kernel_size, 'dropout_rate': dropout_rate}\n",
        "\n",
        "print(f\"Best Model Parameters: {best_params}\")\n",
        "print(f\"Best Validation Accuracy: {best_overall_accuracy:.2f}%\")"
      ]
    },
    {
      "cell_type": "code",
      "execution_count": 20,
      "id": "c62e0337-58aa-47cb-883f-4aaa2d007d08",
      "metadata": {
        "colab": {
          "base_uri": "https://localhost:8080/"
        },
        "id": "c62e0337-58aa-47cb-883f-4aaa2d007d08",
        "outputId": "438f0a9e-30c1-4ed3-ba6c-315a2463cad1"
      },
      "outputs": [
        {
          "output_type": "stream",
          "name": "stdout",
          "text": [
            "Best Model Parameters: {'num_layers': 3, 'kernel_size': 3, 'dropout_rate': 0.25}\n",
            "Best Validation Accuracy: 99.12%\n"
          ]
        }
      ],
      "source": [
        "print(f\"Best Model Parameters: {best_params}\")\n",
        "print(f\"Best Validation Accuracy: {best_overall_accuracy:.2f}%\")"
      ]
    },
    {
      "cell_type": "markdown",
      "id": "0496b608",
      "metadata": {
        "id": "0496b608"
      },
      "source": [
        "#### (g) Inference Use the best fine-tuned model for inference on the test dataset. Save your predictions for every row of the test data in a CSV file with the name FirstName LastName Preds.csv (Do not shuffle the test data)"
      ]
    },
    {
      "cell_type": "code",
      "execution_count": 21,
      "id": "90d4ce7a",
      "metadata": {
        "id": "90d4ce7a"
      },
      "outputs": [],
      "source": [
        "class CustomTestDataset(Dataset):\n",
        "    def __init__(self, images_path: str, transform=None):\n",
        "        self.image_data = torch.from_numpy(np.load(images_path)).float()\n",
        "        self.transform = transform\n",
        "\n",
        "    def __len__(self):\n",
        "        return len(self.image_data)\n",
        "\n",
        "    def __getitem__(self, idx):\n",
        "        img = self.image_data[idx]\n",
        "        img = img.numpy()\n",
        "\n",
        "        if self.transform:\n",
        "            img = self.transform(img)\n",
        "        return img"
      ]
    },
    {
      "cell_type": "markdown",
      "id": "200dbaea-4a1c-4568-9f03-a9700ec1b07e",
      "metadata": {
        "id": "200dbaea-4a1c-4568-9f03-a9700ec1b07e"
      },
      "source": [
        "Implemented a custom PyTorch dataset class called CustomTestDataSet to efficiently load Test MNIST dataset. In the init method, I load the test images from numpy files."
      ]
    },
    {
      "cell_type": "code",
      "execution_count": 21,
      "id": "5b6e5f47-3ba9-4434-bb54-324fae5f668d",
      "metadata": {
        "id": "5b6e5f47-3ba9-4434-bb54-324fae5f668d"
      },
      "outputs": [],
      "source": []
    },
    {
      "cell_type": "code",
      "execution_count": 29,
      "id": "bf0cfe4a",
      "metadata": {
        "id": "bf0cfe4a"
      },
      "outputs": [],
      "source": [
        "x_test_path = '/content/drive/MyDrive/x_test.npy'\n",
        "custom_test_dataset = CustomTestDataset(x_test_path, transform= custom_tf)\n",
        "test_loader = DataLoader(custom_test_dataset, batch_size=batch_size, shuffle=False)"
      ]
    },
    {
      "cell_type": "code",
      "execution_count": 30,
      "id": "ff3d6ccf",
      "metadata": {
        "id": "ff3d6ccf"
      },
      "outputs": [],
      "source": [
        "def predict(trained_model: CNN, test_data: DataLoader):\n",
        "    \"\"\"\n",
        "    Generate predictions using a trained CNN model on the test dataset.\n",
        "    \"\"\"\n",
        "    device = torch.device(\"cuda\" if torch.cuda.is_available() else \"cpu\")\n",
        "    print(f\"Training on device: {device}\")\n",
        "\n",
        "    trained_model = trained_model.to(device)\n",
        "\n",
        "    trained_model.eval() #set the model to evaluation mode\n",
        "    predictions = []\n",
        "    with torch.no_grad():\n",
        "        for inputs in test_data:\n",
        "            inputs= inputs.to(device)\n",
        "            outputs = trained_model(inputs)\n",
        "            _, predicted = outputs.max(1)\n",
        "            predictions.extend(predicted.cpu().tolist())\n",
        "    return predictions"
      ]
    },
    {
      "cell_type": "code",
      "execution_count": 31,
      "id": "88b19ebc",
      "metadata": {
        "colab": {
          "base_uri": "https://localhost:8080/"
        },
        "id": "88b19ebc",
        "outputId": "63e20aa7-7197-4f65-dd6f-bb5e3142ae4e"
      },
      "outputs": [
        {
          "output_type": "stream",
          "name": "stdout",
          "text": [
            "Training on device: cuda\n"
          ]
        }
      ],
      "source": [
        "predictions = predict(trained_model, test_loader)\n",
        "pred_np = np.array(predictions)\n",
        "pred_1d = pred_np.reshape(pred_np.shape[0],)\n",
        "predictions_df = pd.DataFrame({'pred_cnn': pred_1d})\n",
        "predictions_df.to_csv('Jasdeep_Bajaj_preds.csv', index=False)"
      ]
    },
    {
      "cell_type": "code",
      "execution_count": 31,
      "id": "11b8908e",
      "metadata": {
        "id": "11b8908e"
      },
      "outputs": [],
      "source": []
    },
    {
      "cell_type": "markdown",
      "id": "6a083801-36a8-4a83-8e55-5edf369b26a1",
      "metadata": {
        "id": "6a083801-36a8-4a83-8e55-5edf369b26a1"
      },
      "source": [
        "##### BONUS(+10 points): Filter Visualization Randomly pick an image from the training set. Visualize the feature maps corresponding to all convolution filters after the first and last convolution layers"
      ]
    },
    {
      "cell_type": "code",
      "execution_count": 31,
      "id": "735c6a5a-1708-4772-aa8d-76d033c8d826",
      "metadata": {
        "id": "735c6a5a-1708-4772-aa8d-76d033c8d826"
      },
      "outputs": [],
      "source": []
    },
    {
      "cell_type": "code",
      "execution_count": 32,
      "id": "545cc476",
      "metadata": {
        "id": "545cc476"
      },
      "outputs": [],
      "source": [
        "activations = []\n",
        "def get_activations(self, input, output):\n",
        "    activations.append(output.detach().cpu())\n",
        "\n",
        "# First convolutional layer\n",
        "first_conv_layer = trained_model.conv_layers[0][0].register_forward_hook(get_activations)\n",
        "# Last convolutional layer\n",
        "last_conv_layer = model.conv_layers[-1][0].register_forward_hook(get_activations)"
      ]
    },
    {
      "cell_type": "markdown",
      "id": "d5bd7aff-3577-4cf5-9fdb-75b44844ac1e",
      "metadata": {
        "id": "d5bd7aff-3577-4cf5-9fdb-75b44844ac1e"
      },
      "source": [
        "Defined a hook function here that will be called after the forward pass of the desired layer, and it will store the feature maps (activations) for visualization and registered the hook function to the desired convolutional layers in my trained model."
      ]
    },
    {
      "cell_type": "code",
      "execution_count": 34,
      "id": "572ea8d1-9c23-4546-9bab-0836d403157b",
      "metadata": {
        "id": "572ea8d1-9c23-4546-9bab-0836d403157b"
      },
      "outputs": [],
      "source": [
        "device = torch.device(\"cuda\" if torch.cuda.is_available() else \"cpu\")"
      ]
    },
    {
      "cell_type": "code",
      "execution_count": 35,
      "id": "c8820cf3-7c39-4fa3-b3f5-0b611d4ef197",
      "metadata": {
        "id": "c8820cf3-7c39-4fa3-b3f5-0b611d4ef197"
      },
      "outputs": [],
      "source": [
        "random_idx = np.random.randint(len(custom_dataset))\n",
        "input_image, _ = custom_dataset[random_idx]\n",
        "input_image = input_image.to(device)\n",
        "trained_model.eval()\n",
        "output = trained_model(input_image.unsqueeze(0))"
      ]
    },
    {
      "cell_type": "markdown",
      "id": "68fd7d8a-2f8c-446f-926d-fb188d87aa1f",
      "metadata": {
        "id": "68fd7d8a-2f8c-446f-926d-fb188d87aa1f"
      },
      "source": [
        "Getting a random image and forward pass it to the trained model to view feature images after each convolutional layer"
      ]
    },
    {
      "cell_type": "code",
      "execution_count": 39,
      "id": "9abcbbab-df0c-4a7d-a975-cb678e748586",
      "metadata": {
        "id": "9abcbbab-df0c-4a7d-a975-cb678e748586"
      },
      "outputs": [],
      "source": [
        "digit = output.argmax().item()"
      ]
    },
    {
      "cell_type": "code",
      "execution_count": 40,
      "id": "2f469b7e-571c-421e-9a6c-226246a927d0",
      "metadata": {
        "colab": {
          "base_uri": "https://localhost:8080/",
          "height": 447
        },
        "id": "2f469b7e-571c-421e-9a6c-226246a927d0",
        "outputId": "f09d616c-0398-4424-d9fc-04f9d1941b35"
      },
      "outputs": [
        {
          "output_type": "execute_result",
          "data": {
            "text/plain": [
              "<matplotlib.image.AxesImage at 0x7b2648473dc0>"
            ]
          },
          "metadata": {},
          "execution_count": 40
        },
        {
          "output_type": "display_data",
          "data": {
            "text/plain": [
              "<Figure size 640x480 with 1 Axes>"
            ],
            "image/png": "[encoded data removed]"
          },
          "metadata": {}
        }
      ],
      "source": [
        "input_image = input_image.cpu()\n",
        "plt.imshow(input_image[0], cmap='gray') #the actual random image"
      ]
    },
    {
      "cell_type": "markdown",
      "id": "d1daca5f-2e79-4002-a698-538d9f6f6233",
      "metadata": {
        "id": "d1daca5f-2e79-4002-a698-538d9f6f6233"
      },
      "source": [
        "Plotting the actual random image which is used to pass through the trained model i.e. input to the model"
      ]
    },
    {
      "cell_type": "code",
      "execution_count": 40,
      "id": "62f9cee9-ac3e-4101-a085-3203fb128255",
      "metadata": {
        "id": "62f9cee9-ac3e-4101-a085-3203fb128255"
      },
      "outputs": [],
      "source": []
    },
    {
      "cell_type": "code",
      "execution_count": 41,
      "id": "6ea43018-de4d-40e3-aa57-0efbe891426d",
      "metadata": {
        "colab": {
          "base_uri": "https://localhost:8080/",
          "height": 407
        },
        "id": "6ea43018-de4d-40e3-aa57-0efbe891426d",
        "outputId": "17969402-045e-4bf0-ad77-71a33b40fa26"
      },
      "outputs": [
        {
          "output_type": "display_data",
          "data": {
            "text/plain": [
              "<Figure size 400x400 with 16 Axes>"
            ],
            "image/png": "[encoded data removed]"
          },
          "metadata": {}
        }
      ],
      "source": [
        "# Visualize feature maps after the first convolutional layer\n",
        "first_conv_activations = activations[1].squeeze()\n",
        "num_channels = first_conv_activations.shape[0]\n",
        "\n",
        "nrows, ncols = 4, 4\n",
        "fig, axs = plt.subplots(nrows=nrows, ncols=ncols, figsize=(4, 4))\n",
        "\n",
        "# Iterate over the subplots and display the feature maps\n",
        "for i, ax in enumerate(axs.flat):\n",
        "    if i < num_channels:\n",
        "        ax.imshow(first_conv_activations[i])\n",
        "        ax.axis('off')\n",
        "    else:\n",
        "        ax.axis('off')\n",
        "\n",
        "plt.tight_layout()\n",
        "plt.show()"
      ]
    },
    {
      "cell_type": "code",
      "execution_count": 42,
      "id": "d4c31863-8f21-4be6-9e47-68b987f11369",
      "metadata": {
        "colab": {
          "base_uri": "https://localhost:8080/",
          "height": 382
        },
        "id": "d4c31863-8f21-4be6-9e47-68b987f11369",
        "outputId": "87311c1a-cc46-4974-c849-67e03b5ddcec"
      },
      "outputs": [
        {
          "output_type": "display_data",
          "data": {
            "text/plain": [
              "<Figure size 2000x600 with 64 Axes>"
            ],
            "image/png": "[encoded data removed]"
          },
          "metadata": {}
        }
      ],
      "source": [
        "# Visualize feature maps after the last convolutional layer\n",
        "last_conv_activations = activations[-1].squeeze()\n",
        "num_channels = last_conv_activations.shape[0]\n",
        "\n",
        "nrows, ncols = 4, 16\n",
        "fig, axs = plt.subplots(nrows=nrows, ncols=ncols, figsize=(20, 6))\n",
        "\n",
        "for i, ax in enumerate(axs.flat):\n",
        "    if i < num_channels:\n",
        "        ax.imshow(last_conv_activations[i], cmap='gray')\n",
        "        ax.axis('off')\n",
        "    else:\n",
        "        ax.axis('off')\n",
        "\n",
        "plt.tight_layout()\n",
        "plt.show()"
      ]
    },
    {
      "cell_type": "markdown",
      "id": "7c9561bd-4d92-4f61-9fe4-50b1163b182e",
      "metadata": {
        "id": "7c9561bd-4d92-4f61-9fe4-50b1163b182e"
      },
      "source": [
        "Here I Visualize the feature maps after first and last convolutional layers"
      ]
    },
    {
      "cell_type": "code",
      "execution_count": 42,
      "id": "34a39275-43a3-4d62-9f9c-ed48bc0df9e4",
      "metadata": {
        "id": "34a39275-43a3-4d62-9f9c-ed48bc0df9e4"
      },
      "outputs": [],
      "source": []
    },
    {
      "cell_type": "code",
      "execution_count": 43,
      "id": "55990f91-4653-4fb7-978a-b7b088a42317",
      "metadata": {
        "id": "55990f91-4653-4fb7-978a-b7b088a42317"
      },
      "outputs": [],
      "source": [
        "first_conv_layer.remove()\n",
        "last_conv_layer.remove()"
      ]
    },
    {
      "cell_type": "markdown",
      "id": "098c96c9-071f-4d32-aebf-9e93a3c27bce",
      "metadata": {
        "id": "098c96c9-071f-4d32-aebf-9e93a3c27bce"
      },
      "source": [
        "Removing the hooks after visualizing the feature maps to prevent memory leaks"
      ]
    },
    {
      "cell_type": "code",
      "execution_count": 45,
      "id": "462937e4-20d8-4ca2-a4c3-b5f7b271111f",
      "metadata": {
        "id": "462937e4-20d8-4ca2-a4c3-b5f7b271111f"
      },
      "outputs": [],
      "source": []
    },
    {
      "cell_type": "code",
      "source": [],
      "metadata": {
        "id": "bgsfS3SH5U70"
      },
      "id": "bgsfS3SH5U70",
      "execution_count": null,
      "outputs": []
    }
  ],
  "metadata": {
    "kernelspec": {
      "display_name": "Python 3",
      "name": "python3"
    },
    "language_info": {
      "codemirror_mode": {
        "name": "ipython",
        "version": 3
      },
      "file_extension": ".py",
      "mimetype": "text/x-python",
      "name": "python",
      "nbconvert_exporter": "python",
      "pygments_lexer": "ipython3",
      "version": "3.12.2"
    },
    "colab": {
      "provenance": [],
      "gpuType": "T4"
    },
    "accelerator": "GPU"
  },
  "nbformat": 4,
  "nbformat_minor": 5
}